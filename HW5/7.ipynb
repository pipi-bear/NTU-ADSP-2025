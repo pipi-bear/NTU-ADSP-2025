{
 "cells": [
  {
   "cell_type": "markdown",
   "metadata": {},
   "source": [
    "# Generate the $16$ point Walsh matrix\n",
    "> using scipy\n",
    "\n",
    "`hadamard(n, dtype=<class 'int'>)`\n",
    "- `n` is the order of the matrix (must be power of 2) "
   ]
  },
  {
   "cell_type": "code",
   "execution_count": 44,
   "metadata": {},
   "outputs": [
    {
     "name": "stdout",
     "output_type": "stream",
     "text": [
      "[[ 1  1  1  1  1  1  1  1  1  1  1  1  1  1  1  1]\n",
      " [ 1 -1  1 -1  1 -1  1 -1  1 -1  1 -1  1 -1  1 -1]\n",
      " [ 1  1 -1 -1  1  1 -1 -1  1  1 -1 -1  1  1 -1 -1]\n",
      " [ 1 -1 -1  1  1 -1 -1  1  1 -1 -1  1  1 -1 -1  1]\n",
      " [ 1  1  1  1 -1 -1 -1 -1  1  1  1  1 -1 -1 -1 -1]\n",
      " [ 1 -1  1 -1 -1  1 -1  1  1 -1  1 -1 -1  1 -1  1]\n",
      " [ 1  1 -1 -1 -1 -1  1  1  1  1 -1 -1 -1 -1  1  1]\n",
      " [ 1 -1 -1  1 -1  1  1 -1  1 -1 -1  1 -1  1  1 -1]\n",
      " [ 1  1  1  1  1  1  1  1 -1 -1 -1 -1 -1 -1 -1 -1]\n",
      " [ 1 -1  1 -1  1 -1  1 -1 -1  1 -1  1 -1  1 -1  1]\n",
      " [ 1  1 -1 -1  1  1 -1 -1 -1 -1  1  1 -1 -1  1  1]\n",
      " [ 1 -1 -1  1  1 -1 -1  1 -1  1  1 -1 -1  1  1 -1]\n",
      " [ 1  1  1  1 -1 -1 -1 -1 -1 -1 -1 -1  1  1  1  1]\n",
      " [ 1 -1  1 -1 -1  1 -1  1 -1  1 -1  1  1 -1  1 -1]\n",
      " [ 1  1 -1 -1 -1 -1  1  1 -1 -1  1  1  1  1 -1 -1]\n",
      " [ 1 -1 -1  1 -1  1  1 -1 -1  1  1 -1  1 -1 -1  1]]\n"
     ]
    }
   ],
   "source": [
    "import numpy as np\n",
    "from scipy.linalg import hadamard\n",
    "V = hadamard(16)\n",
    "print(V)"
   ]
  },
  {
   "cell_type": "markdown",
   "metadata": {},
   "source": [
    "Get the required row values:\n",
    "\n",
    "row: 1, 4, 10"
   ]
  },
  {
   "cell_type": "code",
   "execution_count": 45,
   "metadata": {},
   "outputs": [
    {
     "name": "stdout",
     "output_type": "stream",
     "text": [
      "W1: [1 1 1 1 1 1 1 1 1 1 1 1 1 1 1 1]\n",
      "\n",
      "W4: [ 1 -1 -1  1  1 -1 -1  1  1 -1 -1  1  1 -1 -1  1]\n",
      "\n",
      "W10: [ 1 -1  1 -1  1 -1  1 -1 -1  1 -1  1 -1  1 -1  1]\n",
      "\n"
     ]
    }
   ],
   "source": [
    "W1 = V[0]\n",
    "W4 = V[3]\n",
    "W10 = V[9]\n",
    "\n",
    "print(f\"W1: {W1}\\n\")\n",
    "print(f\"W4: {W4}\\n\")\n",
    "print(f\"W10: {W10}\\n\")"
   ]
  },
  {
   "cell_type": "markdown",
   "metadata": {},
   "source": [
    "# Modulate\n",
    "\n",
    "> Check `ADSP_Write7.pdf` p.520 for more info.\n",
    "\n",
    "### Step (1): Change $0$ to $-1$.\n",
    "### Step (2): Modulate"
   ]
  },
  {
   "cell_type": "markdown",
   "metadata": {},
   "source": [
    "Modulate `[1 0 1]` by `W1`"
   ]
  },
  {
   "cell_type": "code",
   "execution_count": 46,
   "metadata": {},
   "outputs": [
    {
     "name": "stdout",
     "output_type": "stream",
     "text": [
      "[ 1  1  1  1  1  1  1  1  1  1  1  1  1  1  1  1 -1 -1 -1 -1 -1 -1 -1 -1\n",
      " -1 -1 -1 -1 -1 -1 -1 -1  1  1  1  1  1  1  1  1  1  1  1  1  1  1  1  1]\n"
     ]
    }
   ],
   "source": [
    "W1_101 = np.concatenate([W1, -W1, W1])\n",
    "\n",
    "print(W1_101)"
   ]
  },
  {
   "cell_type": "markdown",
   "metadata": {},
   "source": [
    "Modulate `[1 1 0]` by `W4`"
   ]
  },
  {
   "cell_type": "code",
   "execution_count": 47,
   "metadata": {},
   "outputs": [
    {
     "name": "stdout",
     "output_type": "stream",
     "text": [
      "[ 1 -1 -1  1  1 -1 -1  1  1 -1 -1  1  1 -1 -1  1  1 -1 -1  1  1 -1 -1  1\n",
      "  1 -1 -1  1  1 -1 -1  1 -1  1  1 -1 -1  1  1 -1 -1  1  1 -1 -1  1  1 -1]\n"
     ]
    }
   ],
   "source": [
    "W4_110 = np.concatenate([W4, W4, -W4])\n",
    "\n",
    "print(W4_110)"
   ]
  },
  {
   "cell_type": "markdown",
   "metadata": {},
   "source": [
    "Modulate `[0 1 1]` by `W10`"
   ]
  },
  {
   "cell_type": "code",
   "execution_count": 48,
   "metadata": {},
   "outputs": [
    {
     "name": "stdout",
     "output_type": "stream",
     "text": [
      "[-1  1 -1  1 -1  1 -1  1  1 -1  1 -1  1 -1  1 -1  1 -1  1 -1  1 -1  1 -1\n",
      " -1  1 -1  1 -1  1 -1  1  1 -1  1 -1  1 -1  1 -1 -1  1 -1  1 -1  1 -1  1]\n"
     ]
    }
   ],
   "source": [
    "W10_011 = np.concatenate([-W10, W10, W10])\n",
    "\n",
    "print(W10_011)"
   ]
  },
  {
   "cell_type": "markdown",
   "metadata": {},
   "source": [
    "### Step (3): 相合"
   ]
  },
  {
   "cell_type": "code",
   "execution_count": 49,
   "metadata": {},
   "outputs": [
    {
     "name": "stdout",
     "output_type": "stream",
     "text": [
      "Step 3 result (answer of  7 (a)):\n",
      " [ 1  1 -1  3  1  1 -1  3  3 -1  1  1  3 -1  1  1  1 -3 -1 -1  1 -3 -1 -1\n",
      " -1 -1 -3  1 -1 -1 -3  1  1  1  3 -1  1  1  3 -1 -1  3  1  1 -1  3  1  1]\n",
      "\n"
     ]
    }
   ],
   "source": [
    "x = W1_101 + W4_110 + W10_011\n",
    "print(f\"Step 3 result (answer of  7 (a)):\\n {x}\\n\")"
   ]
  },
  {
   "cell_type": "markdown",
   "metadata": {},
   "source": [
    "# Demodulation\n",
    "\n",
    "> Check `ADSP_Write7.pdf` p.521 for more info."
   ]
  },
  {
   "cell_type": "code",
   "execution_count": 50,
   "metadata": {},
   "outputs": [
    {
     "name": "stdout",
     "output_type": "stream",
     "text": [
      "x1: [ 1  1 -1  3  1  1 -1  3  3 -1  1  1  3 -1  1  1]\n",
      "\n",
      "x2: [ 1 -3 -1 -1  1 -3 -1 -1 -1 -1 -3  1 -1 -1 -3  1]\n",
      "\n",
      "x3: [ 1  1  3 -1  1  1  3 -1 -1  3  1  1 -1  3  1  1]\n",
      "\n"
     ]
    }
   ],
   "source": [
    "x1 = np.split(x, 3)[0]\n",
    "x2 = np.split(x, 3)[1]\n",
    "x3 = np.split(x, 3)[2]\n",
    "\n",
    "print(f\"x1: {x1}\\n\")\n",
    "print(f\"x2: {x2}\\n\")\n",
    "print(f\"x3: {x3}\\n\")"
   ]
  },
  {
   "cell_type": "code",
   "execution_count": 54,
   "metadata": {},
   "outputs": [
    {
     "name": "stdout",
     "output_type": "stream",
     "text": [
      "recover_data_1: [1, 0, 1]\n",
      "\n",
      "equivalent to orig_data_1?: True\n",
      "\n",
      "recover_data_2: [1, 1, 0]\n",
      "\n",
      "equivalent to orig_data_2?: True\n",
      "\n",
      "recover_data_3: [0, 1, 1]\n",
      "\n",
      "equivalent to orig_data_3?: True\n",
      "\n"
     ]
    }
   ],
   "source": [
    "orig_data_1 = [1, 0, 1]\n",
    "orig_data_2 = [1, 1, 0]\n",
    "orig_data_3 = [0, 1, 1]\n",
    "\n",
    "recover_data_1 = []\n",
    "res = np.inner(x1, W1) / 16\n",
    "if res > 0:\n",
    "    recover_data_1.append(1)\n",
    "else:\n",
    "    recover_data_1.append(0)\n",
    "\n",
    "res = np.inner(x2, W1) / 16\n",
    "if res > 0:\n",
    "    recover_data_1.append(1)\n",
    "else:\n",
    "    recover_data_1.append(0)\n",
    "\n",
    "res = np.inner(x3, W1) / 16\n",
    "if res > 0:\n",
    "    recover_data_1.append(1)\n",
    "else:\n",
    "    recover_data_1.append(0)\n",
    "\n",
    "print(f\"recover_data_1: {recover_data_1}\\n\")\n",
    "print(f\"equivalent to orig_data_1?: {recover_data_1 == orig_data_1}\\n\")\n",
    "\n",
    "recover_data_2 = []\n",
    "res = np.inner(x1, W4) / 16\n",
    "if res > 0:\n",
    "    recover_data_2.append(1)\n",
    "else:\n",
    "    recover_data_2.append(0)\n",
    "\n",
    "res = np.inner(x2, W4) / 16\n",
    "if res > 0:\n",
    "    recover_data_2.append(1)\n",
    "else:\n",
    "    recover_data_2.append(0)\n",
    "res = np.inner(x3, W4) / 16\n",
    "if res > 0:\n",
    "    recover_data_2.append(1)\n",
    "else:\n",
    "    recover_data_2.append(0)\n",
    "\n",
    "print(f\"recover_data_2: {recover_data_2}\\n\")\n",
    "print(f\"equivalent to orig_data_2?: {recover_data_2 == orig_data_2}\\n\")\n",
    "\n",
    "recover_data_3 = []\n",
    "res = np.inner(x1, W10) / 16\n",
    "if res > 0:\n",
    "    recover_data_3.append(1)\n",
    "else:\n",
    "    recover_data_3.append(0)\n",
    "\n",
    "res = np.inner(x2, W10) / 16\n",
    "if res > 0:\n",
    "    recover_data_3.append(1)\n",
    "else:\n",
    "    recover_data_3.append(0)\n",
    "\n",
    "res = np.inner(x3, W10) / 16\n",
    "if res > 0:\n",
    "    recover_data_3.append(1)\n",
    "else:\n",
    "    recover_data_3.append(0)\n",
    "\n",
    "print(f\"recover_data_3: {recover_data_3}\\n\")\n",
    "print(f\"equivalent to orig_data_3?: {recover_data_3 == orig_data_3}\\n\")"
   ]
  }
 ],
 "metadata": {
  "kernelspec": {
   "display_name": "base",
   "language": "python",
   "name": "python3"
  },
  "language_info": {
   "codemirror_mode": {
    "name": "ipython",
    "version": 3
   },
   "file_extension": ".py",
   "mimetype": "text/x-python",
   "name": "python",
   "nbconvert_exporter": "python",
   "pygments_lexer": "ipython3",
   "version": "3.12.7"
  }
 },
 "nbformat": 4,
 "nbformat_minor": 2
}
